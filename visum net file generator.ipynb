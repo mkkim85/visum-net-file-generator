{
 "cells": [
  {
   "cell_type": "code",
   "execution_count": 65,
   "metadata": {},
   "outputs": [],
   "source": [
    "import pandas as pd\n",
    "import numpy as np\n",
    "from tqdm import tqdm_notebook"
   ]
  },
  {
   "cell_type": "code",
   "execution_count": 66,
   "metadata": {},
   "outputs": [],
   "source": [
    "file_name = '네트워크4(200128,v8,경유정류장순서반영,김민기).xlsx'\n",
    "df_link_id = pd.read_excel(file_name, sheet_name='Link_ID', dtype={'ROUTE_ID': str})\n",
    "df_visum_link = pd.read_excel(file_name, sheet_name='Visum_link')\n",
    "df_visum_stop = pd.read_excel(file_name, sheet_name='Visum_stop')"
   ]
  },
  {
   "cell_type": "code",
   "execution_count": 3,
   "metadata": {
    "code_folding": []
   },
   "outputs": [
    {
     "data": {
      "application/vnd.jupyter.widget-view+json": {
       "model_id": "72169de1e7f74cecaad22ea5f8517749",
       "version_major": 2,
       "version_minor": 0
      },
      "text/plain": [
       "HBox(children=(IntProgress(value=1, bar_style='info', max=1), HTML(value='')))"
      ]
     },
     "metadata": {},
     "output_type": "display_data"
    },
    {
     "name": "stdout",
     "output_type": "stream",
     "text": [
      "\n"
     ]
    }
   ],
   "source": [
    "df_columns = ['$LINEROUTEITEM:LINENAME', 'LINEROUTENAME', 'DIRECTIONCODE', 'INDEX', 'ISROUTEPOINT', 'NODENO', 'STOPPOINTNO', 'POSTLENGTH', 'ADDVAL']\n",
    "df_line_route_items = pd.DataFrame(columns=df_columns)\n",
    "df_line_route_items.to_csv('line_route_items.csv', index=False, encoding='utf-8-sig')\n",
    "\n",
    "DIRECTIONCODE = '>'\n",
    "POSTLENGTH = '0km'\n",
    "ADDVAL = 0\n",
    "\n",
    "INDEX = 1; N_CNT = 0; S_CNT = 0\n",
    "F_NODE = np.nan; T_NODE = np.nan; prev_route_id = np.nan; prev_stop = np.nan; prev_link = np.nan; prev_link_no = np.nan;\n",
    "\n",
    "df_link = df_link_id\n",
    "# df_link = df_link_id[df_link_id['ROUTE_NAME'] == '1100']\n",
    "# df_link = df_link_id[(df_link_id['ROUTE_NAME'] == '1') | (df_link_id['ROUTE_NAME'] == '1301') | (df_link_id['ROUTE_NAME'] == '1100') | (df_link_id['ROUTE_NAME'] == '320')]\n",
    "for _, l in tqdm_notebook(df_link.iterrows()):\n",
    "    route_id = l['ROUTE_ID']; route_name = l['ROUTE_NAME']; link_id = l['LINK_ID']; link_idx = l['INDEX']\n",
    "\n",
    "    if prev_route_id != route_id:\n",
    "        for i, item in df_line_route_items.iloc[::-1].iterrows():\n",
    "            if item['ISROUTEPOINT'] == 1:\n",
    "                break;\n",
    "            df_line_route_items = df_line_route_items.drop(i, 0)\n",
    "        df_line_route_items.to_csv('line_route_items.csv', mode='a', index=False, encoding='utf-8-sig', header=False)\n",
    "        df_line_route_items = pd.DataFrame(columns=df_columns) \n",
    "        INDEX = 1; N_CNT = 0; S_CNT = 0\n",
    "        F_NODE = np.nan; T_NODE = np.nan; prev_stop = np.nan; prev_link = np.nan; prev_link_no = np.nan;\n",
    "    prev_route_id = route_id\n",
    "    \n",
    "    if prev_link == link_id:\n",
    "        continue\n",
    "    prev_link = link_id\n",
    "    \n",
    "    n = len(set(df_visum_link[(df_visum_link['LINK_ID'] == link_id)]['LINK_NO']))    \n",
    "    for i in range(n):\n",
    "        if np.isnan(T_NODE):\n",
    "            df_vlink = df_visum_link[df_visum_link['LINK_ID'] == link_id]\n",
    "        else:\n",
    "            df_vlink = df_visum_link[(df_visum_link['LINK_ID'] == link_id) & (df_visum_link['F_NODE'] == T_NODE) & (df_visum_link['T_NODE'] != F_NODE) ]\n",
    "        \n",
    "        for _, vl in df_vlink.iterrows():\n",
    "            link_no = vl['LINK_NO']\n",
    "            if prev_link_no == link_no:\n",
    "                continue\n",
    "            prev_link_no = link_no\n",
    "            \n",
    "            if np.isnan(T_NODE):\n",
    "                df_vstop = (df_visum_stop[df_visum_stop['LINK_NO'] == link_no]).sort_values(by=['INDEX', 'F_NODE'])\n",
    "            else:\n",
    "                df_vstop = (df_visum_stop[(df_visum_stop['LINK_NO'] == link_no) & (df_visum_stop['F_NODE'] == T_NODE)]).sort_values(by=['INDEX', 'F_NODE'])\n",
    "            \n",
    "            for _, vs in df_vstop.iterrows():\n",
    "                if prev_stop == vs['STOP_NO']:\n",
    "                    continue\n",
    "                prev_stop = vs['STOP_NO']\n",
    "                \n",
    "                if INDEX == 1:\n",
    "                    F_NODE = vs['F_NODE']\n",
    "                    T_NODE = df_visum_link[(df_visum_link['LINK_ID'] == link_id) & (df_visum_link['F_NODE'] == F_NODE) & (df_visum_link['LINK_NO'] == link_no)].T_NODE.item()                \n",
    "                df_line_route_items = df_line_route_items.append(pd.Series([route_id, route_name, DIRECTIONCODE, INDEX, 1, '', vs['STOP_NO'], POSTLENGTH, ADDVAL], index=df_columns), ignore_index=True)\n",
    "#                 print(vs['STOP_NO'])\n",
    "                INDEX = INDEX + 1 \n",
    "                S_CNT = S_CNT + 1\n",
    "            \n",
    "            if S_CNT > 0 and N_CNT == 0:\n",
    "                if F_NODE != T_NODE:\n",
    "                    df_line_route_items = df_line_route_items.append(pd.Series([route_id, route_name, DIRECTIONCODE, INDEX, 0, T_NODE, '', POSTLENGTH, ADDVAL], index=df_columns), ignore_index=True)\n",
    "                    INDEX = INDEX + 1\n",
    "                    N_CNT = N_CNT + 1\n",
    "                    prev_stop = np.nan\n",
    "                break\n",
    "            else:\n",
    "                F_NODE = T_NODE\n",
    "                T_NODE = vl['T_NODE']\n",
    "                if F_NODE != T_NODE and INDEX > 1:\n",
    "                    df_line_route_items = df_line_route_items.append(pd.Series([route_id, route_name, DIRECTIONCODE, INDEX, 0, T_NODE, '', POSTLENGTH, ADDVAL], index=df_columns), ignore_index=True)\n",
    "                    INDEX = INDEX + 1\n",
    "                    N_CNT = N_CNT + 1\n",
    "                    prev_stop = np.nan\n",
    "            \n",
    "#             print(F_NODE, '->', T_NODE)\n",
    "                \n",
    "for i, item in df_line_route_items.iloc[::-1].iterrows():\n",
    "    if item['ISROUTEPOINT'] == 1:\n",
    "        break;\n",
    "    df_line_route_items = df_line_route_items.drop(i, 0)\n",
    "df_line_route_items.to_csv('line_route_items.csv', mode='a', index=False, encoding='utf-8-sig', header=False)"
   ]
  },
  {
   "cell_type": "code",
   "execution_count": 67,
   "metadata": {},
   "outputs": [],
   "source": [
    "df_time_item = pd.read_excel(file_name, sheet_name='Time', dtype={'노선ID': str, 'ISC노선ID': str, '정류소순번': str, '정류소ID': str, 'VISUM정류소NO': str})"
   ]
  },
  {
   "cell_type": "code",
   "execution_count": 68,
   "metadata": {},
   "outputs": [
    {
     "data": {
      "application/vnd.jupyter.widget-view+json": {
       "model_id": "e3ea0f7e55be4253a96efea350fc891a",
       "version_major": 2,
       "version_minor": 0
      },
      "text/plain": [
       "HBox(children=(IntProgress(value=1, bar_style='info', max=1), HTML(value='')))"
      ]
     },
     "metadata": {},
     "output_type": "display_data"
    },
    {
     "name": "stdout",
     "output_type": "stream",
     "text": [
      "\n"
     ]
    }
   ],
   "source": [
    "df_columns = ['$TIMEPROFILEITEM:LINENAME', 'LINEROUTENAME', 'DIRECTIONCODE', 'TIMEPROFILENAME', 'INDEX', 'LRITEMINDEX', 'ALIGHT', 'BOARD', 'ARR', 'DEP', 'NUMFAREPOINTS', 'NUMFAREPOINTSBOARD', 'NUMFAREPOINTSTHROUGH', 'NUMFAREPOINTSALIGHT', 'ADDVAL']\n",
    "df_time_profile_items = pd.DataFrame(columns=df_columns)\n",
    "df_time_profile_items.to_csv('time_profile_items.csv', index=False, encoding='utf-8-sig')\n",
    "\n",
    "ARR = '00:00:00'\n",
    "DEP = '00:00:00'\n",
    "\n",
    "INDEX = 1; N_CNT = 0; S_CNT = 0\n",
    "F_NODE = np.nan; T_NODE = np.nan; prev_route_id = np.nan; prev_stop = np.nan; prev_link = np.nan; prev_link_no = np.nan;\n",
    "\n",
    "df_link = df_link_id\n",
    "# df_link = df_link_id[(df_link_id['ROUTE_NAME'] == '1') | (df_link_id['ROUTE_NAME'] == '1301') | (df_link_id['ROUTE_NAME'] == '1100') | (df_link_id['ROUTE_NAME'] == '320')]\n",
    "for _, l in tqdm_notebook(df_link.iterrows()):\n",
    "    route_id = l['ROUTE_ID']; route_name = l['ROUTE_NAME']; link_id = l['LINK_ID']; link_idx = l['INDEX']\n",
    "\n",
    "    if prev_route_id != route_id:\n",
    "        ARR = '00:00:00'\n",
    "        DEP = '00:00:00'\n",
    "        df_time_profile_items.to_csv('time_profile_items.csv', mode='a', index=False, encoding='utf-8-sig', header=False)\n",
    "        df_time_profile_items = pd.DataFrame(columns=df_columns)\n",
    "        INDEX = 1; N_CNT = 0; S_CNT = 0\n",
    "        F_NODE = np.nan; T_NODE = np.nan; prev_stop = np.nan; prev_link = np.nan; prev_link_no = np.nan;\n",
    "        df_time = df_time_item[df_time_item['ISC노선ID'] == route_id]\n",
    "    prev_route_id = route_id\n",
    "    \n",
    "    if prev_link == link_id:\n",
    "        continue\n",
    "    prev_link = link_id\n",
    "    \n",
    "    n = len(set(df_visum_link[(df_visum_link['LINK_ID'] == link_id)]['LINK_NO']))    \n",
    "    for i in range(n):\n",
    "        if np.isnan(T_NODE):\n",
    "            df_vlink = df_visum_link[df_visum_link['LINK_ID'] == link_id]\n",
    "        else:\n",
    "            df_vlink = df_visum_link[(df_visum_link['LINK_ID'] == link_id) & (df_visum_link['F_NODE'] == T_NODE) & (df_visum_link['T_NODE'] != F_NODE) ]\n",
    "        \n",
    "        for _, vl in df_vlink.iterrows():\n",
    "            link_no = vl['LINK_NO']\n",
    "            if prev_link_no == link_no:\n",
    "                continue\n",
    "            prev_link_no = link_no\n",
    "            \n",
    "            if np.isnan(T_NODE):\n",
    "                df_vstop = (df_visum_stop[df_visum_stop['LINK_NO'] == link_no]).sort_values(by=['INDEX', 'F_NODE'])\n",
    "            else:\n",
    "                df_vstop = (df_visum_stop[(df_visum_stop['LINK_NO'] == link_no) & (df_visum_stop['F_NODE'] == T_NODE)]).sort_values(by=['INDEX', 'F_NODE'])\n",
    "            \n",
    "            for _, vs in df_vstop.iterrows():\n",
    "                if prev_stop == vs['STOP_NO']:\n",
    "                    continue\n",
    "                prev_stop = vs['STOP_NO']\n",
    "\n",
    "                if INDEX == 1:\n",
    "                    F_NODE = vs['F_NODE']\n",
    "                    T_NODE = df_visum_link[(df_visum_link['LINK_ID'] == link_id) & (df_visum_link['F_NODE'] == F_NODE) & (df_visum_link['LINK_NO'] == link_no)].T_NODE.item()                \n",
    "                stop_info = df_time[df_time['VISUM정류소NO'] == str(vs['STOP_NO'])].head(1)\n",
    "                if len(stop_info) != 0:\n",
    "                    df_time_profile_items = df_time_profile_items.append(pd.Series([route_id, route_name, '>', 1, INDEX, vs['STOP_NO'], 1, 1, stop_info['ARR'].item(), stop_info['DEP'].item(), 0, 0, 0, 0, 0], index=df_columns), ignore_index=True)\n",
    "                    ARR = stop_info['DEP'].item()\n",
    "                    DEP = ARR\n",
    "                    df_time = df_time.drop(stop_info.index)\n",
    "                else:\n",
    "                    df_time_profile_items = df_time_profile_items.append(pd.Series([route_id, route_name, '>', 1, INDEX, vs['STOP_NO'], 0, 0, ARR, DEP, 0, 0, 0, 0, 0], index=df_columns), ignore_index=True)                \n",
    "\n",
    "                INDEX = INDEX + 1 \n",
    "                S_CNT = S_CNT + 1\n",
    "            \n",
    "            if S_CNT > 0 and N_CNT == 0:\n",
    "                if F_NODE != T_NODE:\n",
    "#                     df_line_route_items = df_line_route_items.append(pd.Series([route_id, route_name, DIRECTIONCODE, INDEX, 0, T_NODE, '', POSTLENGTH, ADDVAL], index=df_columns), ignore_index=True)\n",
    "#                     INDEX = INDEX + 1\n",
    "                    N_CNT = N_CNT + 1\n",
    "                    prev_stop = np.nan\n",
    "                break\n",
    "            else:\n",
    "                F_NODE = T_NODE\n",
    "                T_NODE = vl['T_NODE']\n",
    "                if F_NODE != T_NODE and INDEX > 1:\n",
    "#                     df_line_route_items = df_line_route_items.append(pd.Series([route_id, route_name, DIRECTIONCODE, INDEX, 0, T_NODE, '', POSTLENGTH, ADDVAL], index=df_columns), ignore_index=True)\n",
    "#                     INDEX = INDEX + 1\n",
    "                    N_CNT = N_CNT + 1\n",
    "                    prev_stop = np.nan\n",
    "                \n",
    "df_time_profile_items.to_csv('time_profile_items.csv', mode='a', index=False, encoding='utf-8-sig', header=False)"
   ]
  },
  {
   "cell_type": "code",
   "execution_count": null,
   "metadata": {},
   "outputs": [],
   "source": []
  }
 ],
 "metadata": {
  "kernelspec": {
   "display_name": "Python 3",
   "language": "python",
   "name": "python3"
  },
  "language_info": {
   "codemirror_mode": {
    "name": "ipython",
    "version": 3
   },
   "file_extension": ".py",
   "mimetype": "text/x-python",
   "name": "python",
   "nbconvert_exporter": "python",
   "pygments_lexer": "ipython3",
   "version": "3.7.3"
  }
 },
 "nbformat": 4,
 "nbformat_minor": 2
}
